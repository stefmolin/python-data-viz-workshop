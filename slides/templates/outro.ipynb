{
 "cells": [
  {
   "cell_type": "markdown",
   "id": "0b8f6d58-bbfa-416c-9b45-c7996e741e9b",
   "metadata": {
    "slideshow": {
     "slide_type": "slide"
    },
    "tags": [
     "id_fin"
    ]
   },
   "source": [
    "# Thank you!\n",
    "\n",
    "*I hope you enjoyed the session. You can follow my work on the following platforms:*\n",
    "\n",
    "<div style=\"display: flex; justify-content: space-between; align-items: center;\">\n",
    "    <div style=\"text-align: center; flex-basis: auto; flex-shrink: 2;\">\n",
    "        <img class=\"qr-code\" width=\"20%\" src=\"https://raw.githubusercontent.com/stefmolin/python-data-viz-workshop/main/media/qr-code.png\">\n",
    "    </div>\n",
    "\n",
    "<div style=\"flex-basis: 45em; flex-grow: 2;\">\n",
    "    <p>\n",
    "        <i class=\"fab fa-github-square fa-2x\" style=\"position: relative; top: 2px;\"></i>\n",
    "      <a style=\"padding-left: 2px; font-size: 2em;\" href=\"https://github.com/stefmolin\" target=\"_blank\" rel=\"noopener noreferrer\">\n",
    "        github.com/stefmolin\n",
    "      </a>\n",
    "    </p>\n",
    "    <p>\n",
    "        <i class=\"fab fa-twitter-square fa-2x\" style=\"position: relative; top: 2px;\"></i>\n",
    "        <a style=\"padding-left: 2px; font-size: 2em;\" href=\"https://twitter.com/StefanieMolin\" target=\"_blank\" rel=\"noopener noreferrer\">\n",
    "        twitter.com/StefanieMolin                      \n",
    "        </a>\n",
    "    </p>\n",
    "    <p>\n",
    "        <i class=\"fab fa-medium fa-2x\" style=\"position: relative; top: 3px;\"></i>\n",
    "      <a style=\"padding-left: 2px; font-size: 2em;\" href=\"https://medium.com/@stefaniemolin\" target=\"_blank\" rel=\"noopener noreferrer\">\n",
    "         medium.com/@stefaniemolin                   \n",
    "      </a>\n",
    "    </p>\n",
    "    <p>\n",
    "        <i class=\"fab fa-linkedin fa-2x\" style=\"position: relative; top: 2px;\"></i>\n",
    "        <a style=\"padding-left: 2px; font-size: 2em;\" href=\"https://linkedin.com/in/stefanie-molin\" target=\"_blank\" rel=\"noopener noreferrer\">\n",
    "         linkedin.com/in/stefanie-molin\n",
    "        </a>\n",
    "    </p>\n",
    "</div>\n",
    "</div>"
   ]
  }
 ],
 "metadata": {
  "kernelspec": {
   "display_name": "Python 3 (ipykernel)",
   "language": "python",
   "name": "python3"
  },
  "language_info": {
   "codemirror_mode": {
    "name": "ipython",
    "version": 3
   },
   "file_extension": ".py",
   "mimetype": "text/x-python",
   "name": "python",
   "nbconvert_exporter": "python",
   "pygments_lexer": "ipython3",
   "version": "3.10.10"
  }
 },
 "nbformat": 4,
 "nbformat_minor": 5
}
