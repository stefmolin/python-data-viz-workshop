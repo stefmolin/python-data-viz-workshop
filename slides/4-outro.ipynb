{
 "cells": [
  {
   "cell_type": "markdown",
   "id": "0b8f6d58-bbfa-416c-9b45-c7996e741e9b",
   "metadata": {
    "slideshow": {
     "slide_type": "slide"
    },
    "tags": [
     "id_fin"
    ]
   },
   "source": [
    "# Thank you!\n",
    "\n",
    "*I hope you enjoyed the session. You can follow my work on these platforms:*\n",
    "\n",
    "<div style=\"display: flex; justify-content: space-between; align-items: center;\">\n",
    "    <div style=\"text-align: center; flex-basis: auto; flex-shrink: 2; margin-bottom: -25px\">\n",
    "      <a href=\"https://stefaniemolin.com/feedback\" target=\"_blank\">\n",
    "        <img\n",
    "          width=\"20%\"\n",
    "          alt=\"Please visit https://stefaniemolin.com/feedback to provide your feedback on this session.\"\n",
    "          title=\"QR code to submit feedback (leads to https://stefaniemolin.com/feedback)\"\n",
    "          class=\"qr-code\"\n",
    "          src=\"media/qr-code.png\"\n",
    "        />\n",
    "      </a>\n",
    "    </div>\n",
    "<div style=\"flex-basis: 45em; flex-grow: 2; font-size: 75%;\">\n",
    "    <div style=\"display: flex\">\n",
    "      <i class=\"fa fa-globe fa-2x fa-fw\" style=\"padding-right: 4px; margin: auto 0;\"></i>\n",
    "      <a href=\"https://stefaniemolin.com\" rel=\"noopener noreferrer\" style=\"font-size: 2em;\">\n",
    "        stefaniemolin.com\n",
    "      </a>\n",
    "    </div>\n",
    "  <div style=\"display: flex\">\n",
    "    <i class=\"fab fa-github fa-2x fa-fw\" style=\"padding-right: 4px; margin: auto 0;\"></i>\n",
    "    <a href=\"https://github.com/stefmolin\" rel=\"noopener noreferrer\" style=\"font-size: 2em;\" target=\"_blank\">\n",
    "      github.com/stefmolin\n",
    "    </a>\n",
    "  </div>\n",
    "  <div style=\"display: flex\">\n",
    "    <i class=\"fa-brands fa-bluesky fa-2x fa-fw\" style=\"padding-right: 4px; margin: auto 0;\"></i>\n",
    "    <a href=\"https://bsky.app/profile/stefaniemolin.com\" rel=\"noopener noreferrer\" style=\"font-size: 2em;\" target=\"_blank\">\n",
    "      bsky.app/profile/stefaniemolin.com\n",
    "    </a>\n",
    "  </div>\n",
    "  <div style=\"display: flex\">\n",
    "    <i class=\"fab fa-twitter fa-2x fa-fw\" style=\"padding-right: 4px; margin: auto 0;\"></i>\n",
    "    <a href=\"https://x.com/StefanieMolin\" rel=\"noopener noreferrer\" style=\"font-size: 2em;\" target=\"_blank\">\n",
    "      x.com/StefanieMolin\n",
    "    </a>\n",
    "  </div>\n",
    "  <div style=\"display: flex\">\n",
    "    <i class=\"fab fa-linkedin-in fa-2x fa-fw\" style=\"padding-right: 4px; margin: auto 0;\"></i>\n",
    "    <a href=\"https://linkedin.com/in/stefanie-molin\" rel=\"noopener noreferrer\" style=\"font-size: 2em;\" target=\"_blank\">\n",
    "      linkedin.com/in/stefanie-molin\n",
    "    </a>\n",
    "  </div>\n",
    "</div>\n",
    "</div>"
   ]
  }
 ],
 "metadata": {
  "kernelspec": {
   "display_name": "Python 3 (ipykernel)",
   "language": "python",
   "name": "python3"
  },
  "language_info": {
   "codemirror_mode": {
    "name": "ipython",
    "version": 3
   },
   "file_extension": ".py",
   "mimetype": "text/x-python",
   "name": "python",
   "nbconvert_exporter": "python",
   "pygments_lexer": "ipython3",
   "version": "3.12.3"
  }
 },
 "nbformat": 4,
 "nbformat_minor": 5
}
